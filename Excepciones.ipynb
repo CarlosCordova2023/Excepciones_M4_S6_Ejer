{
  "nbformat": 4,
  "nbformat_minor": 0,
  "metadata": {
    "colab": {
      "provenance": [],
      "authorship_tag": "ABX9TyN6VpXRk47Kede/TKhNMlpS",
      "include_colab_link": true
    },
    "kernelspec": {
      "name": "python3",
      "display_name": "Python 3"
    },
    "language_info": {
      "name": "python"
    }
  },
  "cells": [
    {
      "cell_type": "markdown",
      "metadata": {
        "id": "view-in-github",
        "colab_type": "text"
      },
      "source": [
        "<a href=\"https://colab.research.google.com/github/CarlosCordova2023/Excepciones_M4_S6_Ejer/blob/main/Excepciones.ipynb\" target=\"_parent\"><img src=\"https://colab.research.google.com/assets/colab-badge.svg\" alt=\"Open In Colab\"/></a>"
      ]
    },
    {
      "cell_type": "code",
      "execution_count": 1,
      "metadata": {
        "colab": {
          "base_uri": "https://localhost:8080/"
        },
        "id": "hADxFOWvXC6J",
        "outputId": "08f7f05a-3be5-443f-f1dc-a455a53d8697"
      },
      "outputs": [
        {
          "output_type": "stream",
          "name": "stdout",
          "text": [
            "División por cero.\n"
          ]
        }
      ],
      "source": [
        "suma = 3000\n",
        "contador = 0\n",
        "\n",
        "try:\n",
        "    resultado = suma / contador\n",
        "    print(resultado)\n",
        "except ZeroDivisionError:\n",
        "    print('División por cero.')\n"
      ]
    }
  ]
}